{
 "cells": [
  {
   "cell_type": "code",
   "execution_count": null,
   "id": "ba15913a-23a9-41a2-b065-ceb11b25a570",
   "metadata": {},
   "outputs": [],
   "source": [
    "ПЕРВАЯ ЗАДАЧА"
   ]
  },
  {
   "cell_type": "code",
   "execution_count": 3,
   "id": "d607fc66-8465-4196-96ea-875f3f8a423a",
   "metadata": {},
   "outputs": [
    {
     "name": "stdout",
     "output_type": "stream",
     "text": [
      "[['регион', 'p-уровень'], ['Центр', 0.004], ['Урал', 0.0094], ['Северо-запад', 0.5067]]\n"
     ]
    }
   ],
   "source": [
    "import pandas as pd\n",
    "from scipy.stats import mannwhitneyu\n",
    "\n",
    "df = pd.read_csv(\"data_1_5.csv\", encoding='ANSI', sep=';', decimal=',', skipinitialspace=True)\n",
    "df.columns = [x.lower().replace(\" \", \"_\") for x in df.columns]\n",
    "\n",
    "result = []\n",
    "values = set(df['регион'].values)\n",
    "\n",
    "for i in values:\n",
    "    df_category = df[df['регион'] == i].copy()\n",
    "    p = (mannwhitneyu(df_category['время_до'], df_category['время_после'])[1]).round(4)\n",
    "    result.append([i, p])\n",
    "\n",
    "result.sort(key=lambda row: row[1])\n",
    "result.insert(0, ['регион', 'p-уровень'])\n",
    "print(result)\n"
   ]
  },
  {
   "cell_type": "code",
   "execution_count": null,
   "id": "908c2624-0431-4d69-81f1-49086b612a43",
   "metadata": {},
   "outputs": [],
   "source": [
    "ВТОРАЯ ЗАДАЧА"
   ]
  },
  {
   "cell_type": "code",
   "execution_count": 19,
   "id": "8d3a1633-b2a9-44b7-9d8c-2f565e397973",
   "metadata": {},
   "outputs": [
    {
     "name": "stdout",
     "output_type": "stream",
     "text": [
      "[['показатель', 'p-уровень', 'метод расчёта'], ['V, мм/с', 0.2019, 'Манн-Уитни'], ['Av, мДж/с', 0.202, 'Манн-Уитни'], ['Y, мм ', 0.6069, 'Манн-Уитни'], ['S, мм.кв', 0.9123, 'Манн-Уитни'], ['X, мм', 0.9927, 'Манн-Уитни']]\n"
     ]
    }
   ],
   "source": [
    "import pandas as pd\n",
    "from scipy.stats import mannwhitneyu, ttest_ind, shapiro\n",
    "\n",
    "df = pd.read_csv(\"data_2.csv\", encoding='ANSI', sep=';', decimal=',', skipinitialspace=True)\n",
    "df.columns = [x.lower().replace(\" \", \"_\") for x in df.columns]\n",
    "\n",
    "result = []\n",
    "groups = set(df['group'].values)\n",
    "indexes = list(df.columns)[1:]\n",
    "\n",
    "df1 = df[df['group'] == 'group_1']\n",
    "df2 = df[df['group'] == 'group_2']\n",
    "\n",
    "arr1 = []\n",
    "arr2 = []\n",
    "\n",
    "for i in indexes:\n",
    "\n",
    "    if shapiro(df1[i])[1] <= 0.05:\n",
    "        arr1.append(\"Манн-Уинти\")\n",
    "    else:\n",
    "        arr1.append(\"Стьюдент\")\n",
    "        \n",
    "    if shapiro(df2[i])[1] <= 0.05:\n",
    "        arr2.append(\"Манн-Уинти\")\n",
    "    else:\n",
    "        arr2.append(\"Стьюдент\")\n",
    "\n",
    "for i in range(len(indexes)):\n",
    "\n",
    "    if arr1[i] == \"Стьюдент\" and arr2[i] == \"Стьюдент\":\n",
    "        result.append(\n",
    "            [\n",
    "                indexes[i],\n",
    "                ttest_ind(df1[indexes[i]], df2[indexes[i]])[1].round(4),\n",
    "                \"Стьюдент\",\n",
    "            ]\n",
    "        )\n",
    "    else:\n",
    "        result.append(\n",
    "            [\n",
    "                indexes[i],\n",
    "                mannwhitneyu(df1[indexes[i]], df2[indexes[i]])[1].round(4),\n",
    "                \"Манн-Уитни\",\n",
    "            ]\n",
    "        )\n",
    "\n",
    "result.sort(key=lambda row: row[1])\n",
    "result.insert(0, ['показатель', 'p-уровень', 'метод расчёта'])\n",
    "print(result)"
   ]
  },
  {
   "cell_type": "code",
   "execution_count": null,
   "id": "701a88b7-a566-4252-b6d0-1ca5f92c382f",
   "metadata": {},
   "outputs": [],
   "source": [
    "ТРЕТЬЯ ЗАДАЧА"
   ]
  },
  {
   "cell_type": "code",
   "execution_count": 3,
   "id": "e2104530-5259-4e95-883f-55f3b4c68ac1",
   "metadata": {},
   "outputs": [
    {
     "name": "stdout",
     "output_type": "stream",
     "text": [
      "[['показатель', 'р-уровень'], ['тип_осложнения_1', 0.0045], ['тип_осложнения_4', 0.3886], ['тип_осложнения_2', 0.4974], ['тип_осложнения_3', 1.0]]\n"
     ]
    }
   ],
   "source": [
    "import pandas as pd\n",
    "from scipy.stats import chi2_contingency\n",
    "\n",
    "df = pd.read_csv(\"data_3.csv\", encoding='ANSI', sep=\";\", decimal=\",\", skipinitialspace=True)\n",
    "df.columns = [x.lower().replace(\" \", \"_\") for x in df.columns]\n",
    "\n",
    "df1 = df[df[\"вид_зондирования\"] == \"Классическое\"]\n",
    "df2 = df[df[\"вид_зондирования\"] == \"Двойное эндоскопическое сопровождение\"]\n",
    "\n",
    "result = []\n",
    "res = [[\"показатель\", \"р-уровень\"]]\n",
    "crstb = pd.crosstab(df[\"вид_зондирования\"], df[\"тип_осложнения_1\"])\n",
    "\n",
    "for i in df.columns:\n",
    "    if i != \"вид_зондирования\" and i != \"время_зондирования, сек\":\n",
    "        crstb = pd.crosstab(df[\"вид_зондирования\"], df[i])\n",
    "        result.append([i, chi2_contingency(crstb)[1].round(4)])\n",
    "\n",
    "\n",
    "def bubble_sort(nums):\n",
    "    swapped = True\n",
    "    while swapped:\n",
    "        swapped = False\n",
    "        for i in range(len(nums) - 1):\n",
    "            if nums[i][1] > nums[i + 1][1]:\n",
    "                nums[i], nums[i + 1] = nums[i + 1], nums[i]\n",
    "                swapped = True\n",
    "    return nums\n",
    "\n",
    "\n",
    "arr = bubble_sort(result)\n",
    "\n",
    "for i in arr:\n",
    "    res.append(i)\n",
    "\n",
    "print(res)\n"
   ]
  },
  {
   "cell_type": "code",
   "execution_count": null,
   "id": "4d1dcc31-abdf-4d8a-a926-b0efa4068e0e",
   "metadata": {},
   "outputs": [],
   "source": [
    "ЧЕТВЕРТАЯ ЗАДАЧА"
   ]
  },
  {
   "cell_type": "code",
   "execution_count": null,
   "id": "094bbacd-1182-4706-a3a1-7e274dab76c7",
   "metadata": {},
   "outputs": [],
   "source": [
    "import pandas as pd\n",
    "from scipy.stats as st\n",
    "\n",
    "df = pd.read_csv(\"data_3.csv\", encoding='ANSI', sep=\";\", decimal=\",\", skipinitialspace=True)\n",
    "df.columns = [x.lower().replace(\" \", \"_\") for x in df.columns]\n",
    "\n",
    "\n",
    "\n",
    "\n"
   ]
  }
 ],
 "metadata": {
  "kernelspec": {
   "display_name": "Python 3 (ipykernel)",
   "language": "python",
   "name": "python3"
  },
  "language_info": {
   "codemirror_mode": {
    "name": "ipython",
    "version": 3
   },
   "file_extension": ".py",
   "mimetype": "text/x-python",
   "name": "python",
   "nbconvert_exporter": "python",
   "pygments_lexer": "ipython3",
   "version": "3.12.1"
  }
 },
 "nbformat": 4,
 "nbformat_minor": 5
}
